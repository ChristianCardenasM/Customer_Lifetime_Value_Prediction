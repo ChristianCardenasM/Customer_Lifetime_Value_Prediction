{
 "cells": [
  {
   "cell_type": "code",
   "execution_count": 20,
   "id": "8855ed93-1490-4a66-b391-0656a5e7cd17",
   "metadata": {},
   "outputs": [],
   "source": [
    "# Script de Preparación de Datos\n",
    "###################################\n",
    "\n",
    "import pandas as pd\n",
    "import numpy as np\n",
    "import lifetimes\n",
    "import os\n",
    "\n",
    "# Leemos los archivos csv\n",
    "\n",
    "def read_file_csv(filename):\n",
    "    df = pd.read_csv(os.path.join('../data/raw/', filename))\n",
    "    print(filename, ' cargado correctamente')\n",
    "    return df\n",
    "\n",
    "# Funciones para manejon de outliers\n",
    "\n",
    "def find_boundaries(df, variable, q1=0.05, q2=0.95):\n",
    "\n",
    "    # the boundaries are the quantiles\n",
    "    lower_boundary = df[variable].quantile(q1)\n",
    "    upper_boundary = df[variable].quantile(q2)\n",
    "    return upper_boundary, lower_boundary\n",
    "\n",
    "def capping_outliers(df, variable):\n",
    "\n",
    "    # aplica los límites de los quantiles\n",
    "    upper_boundary,lower_boundary =  find_boundaries(df,variable)\n",
    "    df[variable] = np.where(df[variable] > upper_boundary, upper_boundary,\n",
    "                            np.where(df[variable] < lower_boundary, lower_boundary, df[variable]))\n",
    "\n",
    "# Generación del archivo rfm\n",
    "\n",
    "def data_preparation(df):\n",
    "\n",
    "    # Nos quedamos los valores de Precio y Cantidad mayores a cero\n",
    "    df = df[df['Quantity'] > 0 ]\n",
    "    df = df[df['UnitPrice'] > 0]\n",
    "    df = df[~df['InvoiceNo'].str.contains(\"C\",na=False)] # drop returned items\n",
    "\n",
    "    # Eliminación de outliers\n",
    "    df.dropna(inplace=True)\n",
    "\n",
    "    # Aplicando las reglas para manejo de outliers\n",
    "    capping_outliers(df,'UnitPrice')\n",
    "    capping_outliers(df,'Quantity')\n",
    "\n",
    "    # Filtra valores 'Usamos solo del Reino Unido'\n",
    "    df = df[df.Country == 'United Kingdom']\n",
    "\n",
    "    # Se crea la columna 'Total Price'\n",
    "    df['Total Price'] = df['UnitPrice'] * df['Quantity']\n",
    "\n",
    "    # Creating Summary Dataset\n",
    "    clv = lifetimes.utils.summary_data_from_transaction_data(df,'CustomerID',\n",
    "                                                             'InvoiceDate',\n",
    "                                                             'Total Price',\n",
    "                                                             observation_period_end='2011-12-09')\n",
    "\n",
    "    # we want only customers shopped more than 2 times\n",
    "    clv = clv[clv['frequency']>1]\n",
    "\n",
    "    print('Archivo de frecuencia, recencia, value correctamente generado')\n",
    "    return clv\n",
    "\n",
    "# Exportamos la tabla rfm\n",
    "\n",
    "def data_exporting(df, filename):\n",
    "    \n",
    "    df.to_csv(os.path.join('../data/processed/', filename))\n",
    "    print(filename, 'exportado correctamente en la carpeta processed')\n",
    "\n",
    "\n",
    "def main():\n",
    "    # Lectura del archivo original\n",
    "    df1 = read_file_csv('Online_Retail.csv')\n",
    "\n",
    "    # Generación del archivo clv  customer lifetime value\n",
    "    clv1 = data_preparation(df1)\n",
    "\n",
    "    # Exporta clv1\n",
    "    data_exporting(clv1, 'rfm_data.csv')\n",
    "\n",
    "if __name__ == \"__main__\":\n",
    "    main()"
   ]
  },
  {
   "cell_type": "markdown",
   "id": "e2de7b63-9111-4a89-93c1-f8806d390f54",
   "metadata": {},
   "source": [
    "PRUEBAS"
   ]
  },
  {
   "cell_type": "code",
   "execution_count": 16,
   "id": "f4e41877-8dbf-4769-b03d-631f0641304e",
   "metadata": {},
   "outputs": [
    {
     "name": "stdout",
     "output_type": "stream",
     "text": [
      "Online_Retail.csv  cargado correctamente\n"
     ]
    }
   ],
   "source": [
    "df = read_file_csv('Online_Retail.csv')"
   ]
  },
  {
   "cell_type": "code",
   "execution_count": 18,
   "id": "39e5ed8f-e312-4e5c-a316-df8c5465a0b5",
   "metadata": {},
   "outputs": [
    {
     "name": "stdout",
     "output_type": "stream",
     "text": [
      "Archivo de frecuencia, recencia, value correctamente generado\n"
     ]
    }
   ],
   "source": [
    "clv2 = data_preparation(df)"
   ]
  },
  {
   "cell_type": "code",
   "execution_count": 21,
   "id": "b6da1e08-594c-4f72-b3f3-c27730ff5ef8",
   "metadata": {},
   "outputs": [
    {
     "name": "stdout",
     "output_type": "stream",
     "text": [
      "rfm_data.csv exportado correctamente en la carpeta processed\n"
     ]
    }
   ],
   "source": [
    "data_exporting(clv2, 'rfm_data.csv')"
   ]
  },
  {
   "cell_type": "code",
   "execution_count": 22,
   "id": "fc77c9b5-d04b-475b-8824-2e37db05c7a6",
   "metadata": {},
   "outputs": [
    {
     "name": "stdout",
     "output_type": "stream",
     "text": [
      "Online_Retail.csv  cargado correctamente\n",
      "Archivo de frecuencia, recencia, value correctamente generado\n",
      "rfm_data.csv exportado correctamente en la carpeta processed\n"
     ]
    }
   ],
   "source": [
    "main()"
   ]
  }
 ],
 "metadata": {
  "kernelspec": {
   "display_name": "Python 3 (ipykernel)",
   "language": "python",
   "name": "python3"
  },
  "language_info": {
   "codemirror_mode": {
    "name": "ipython",
    "version": 3
   },
   "file_extension": ".py",
   "mimetype": "text/x-python",
   "name": "python",
   "nbconvert_exporter": "python",
   "pygments_lexer": "ipython3",
   "version": "3.11.6"
  }
 },
 "nbformat": 4,
 "nbformat_minor": 5
}
