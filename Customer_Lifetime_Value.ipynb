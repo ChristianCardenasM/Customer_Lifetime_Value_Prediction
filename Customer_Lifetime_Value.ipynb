{
 "cells": [
  {
   "cell_type": "markdown",
   "id": "fa91c61b-529e-4ce9-9f21-8f48c02cc87c",
   "metadata": {},
   "source": [
    "<center><h1>Customer Lifetime Value With Probabilistic Model</h1></center>"
   ]
  },
  {
   "cell_type": "markdown",
   "id": "c3bf77c4-f1c9-4bd2-aa3d-c0c9ad15b110",
   "metadata": {},
   "source": [
    "<center><img src=\"https://content.webengage.com/wp-content/uploads/sites/4/2016/05/How-to-Calculate-Increase-Customer-.png\" alt=\"Customer Lifetime Value\" width=\"1000\" height=\"600\"></center>"
   ]
  },
  {
   "cell_type": "markdown",
   "id": "e34dfee7-d4f3-4bc9-9706-0af178ab7205",
   "metadata": {},
   "source": [
    "### Business Problem"
   ]
  },
  {
   "cell_type": "markdown",
   "id": "1f1db2d3-00f9-437e-ac3f-93bcd3921efc",
   "metadata": {},
   "source": [
    "- An online company would like to know each customer lifetime value for 6 months and 12 months periods.\n",
    "- We will utilize BG/NBD for predicting purchase amounts and then used Gamma-Gamma model to predict Customer Lifetime Value for desired periods. "
   ]
  },
  {
   "cell_type": "markdown",
   "id": "c5e00ea7-fbc7-4c0f-830e-10f335306c37",
   "metadata": {},
   "source": [
    "### Importing Libraries"
   ]
  },
  {
   "cell_type": "code",
   "execution_count": 105,
   "id": "c9901663-d615-4ce7-a8f8-d71ca610a610",
   "metadata": {},
   "outputs": [],
   "source": [
    "import lifetimes\n",
    "\n",
    "import pandas as pd\n",
    "import numpy as np\n",
    "import datetime as dt\n",
    "\n",
    "import matplotlib.pyplot as plt\n",
    "import seaborn as sns\n",
    "import eda  # my module \n",
    "\n",
    "from lifetimes import BetaGeoFitter\n",
    "from lifetimes import GammaGammaFitter\n",
    "from sklearn.preprocessing import MinMaxScaler\n",
    "\n",
    "from lifetimes.plotting import plot_frequency_recency_matrix\n",
    "from lifetimes.plotting import plot_probability_alive_matrix\n",
    "from lifetimes.plotting import plot_period_transactions\n",
    "\n",
    "pd.set_option('display.max_rows', 500)\n",
    "pd.set_option('display.max_columns', 500)\n",
    "pd.set_option('display.width', 1000)"
   ]
  },
  {
   "cell_type": "markdown",
   "id": "803f6d21-2283-444c-b95a-432cda6bbaf8",
   "metadata": {},
   "source": [
    "### Reading Data"
   ]
  },
  {
   "cell_type": "code",
   "execution_count": 106,
   "id": "2d033853-912e-4985-9e53-366733a11300",
   "metadata": {},
   "outputs": [],
   "source": [
    "df_ = pd.read_excel(\"online_retail_II.xlsx\", sheet_name=\"Year 2010-2011\")"
   ]
  },
  {
   "cell_type": "code",
   "execution_count": 171,
   "id": "3775fb19-e4b0-4bf2-bdd4-03252f54b809",
   "metadata": {},
   "outputs": [],
   "source": [
    "df = df_.copy()"
   ]
  },
  {
   "cell_type": "markdown",
   "id": "1aba290b-9fe5-4e9e-ac38-6be0b4926f78",
   "metadata": {},
   "source": [
    "#### Data Understanding"
   ]
  },
  {
   "cell_type": "code",
   "execution_count": 172,
   "id": "648af7ab-4b2b-4365-b2d3-66b2831ce612",
   "metadata": {},
   "outputs": [
    {
     "data": {
      "text/html": [
       "<div>\n",
       "<style scoped>\n",
       "    .dataframe tbody tr th:only-of-type {\n",
       "        vertical-align: middle;\n",
       "    }\n",
       "\n",
       "    .dataframe tbody tr th {\n",
       "        vertical-align: top;\n",
       "    }\n",
       "\n",
       "    .dataframe thead th {\n",
       "        text-align: right;\n",
       "    }\n",
       "</style>\n",
       "<table border=\"1\" class=\"dataframe\">\n",
       "  <thead>\n",
       "    <tr style=\"text-align: right;\">\n",
       "      <th></th>\n",
       "      <th>Invoice</th>\n",
       "      <th>StockCode</th>\n",
       "      <th>Description</th>\n",
       "      <th>Quantity</th>\n",
       "      <th>InvoiceDate</th>\n",
       "      <th>Price</th>\n",
       "      <th>Customer ID</th>\n",
       "      <th>Country</th>\n",
       "    </tr>\n",
       "  </thead>\n",
       "  <tbody>\n",
       "    <tr>\n",
       "      <th>0</th>\n",
       "      <td>536365</td>\n",
       "      <td>85123A</td>\n",
       "      <td>WHITE HANGING HEART T-LIGHT HOLDER</td>\n",
       "      <td>6</td>\n",
       "      <td>2010-12-01 08:26:00</td>\n",
       "      <td>2.55</td>\n",
       "      <td>17850.0</td>\n",
       "      <td>United Kingdom</td>\n",
       "    </tr>\n",
       "    <tr>\n",
       "      <th>1</th>\n",
       "      <td>536365</td>\n",
       "      <td>71053</td>\n",
       "      <td>WHITE METAL LANTERN</td>\n",
       "      <td>6</td>\n",
       "      <td>2010-12-01 08:26:00</td>\n",
       "      <td>3.39</td>\n",
       "      <td>17850.0</td>\n",
       "      <td>United Kingdom</td>\n",
       "    </tr>\n",
       "    <tr>\n",
       "      <th>2</th>\n",
       "      <td>536365</td>\n",
       "      <td>84406B</td>\n",
       "      <td>CREAM CUPID HEARTS COAT HANGER</td>\n",
       "      <td>8</td>\n",
       "      <td>2010-12-01 08:26:00</td>\n",
       "      <td>2.75</td>\n",
       "      <td>17850.0</td>\n",
       "      <td>United Kingdom</td>\n",
       "    </tr>\n",
       "    <tr>\n",
       "      <th>3</th>\n",
       "      <td>536365</td>\n",
       "      <td>84029G</td>\n",
       "      <td>KNITTED UNION FLAG HOT WATER BOTTLE</td>\n",
       "      <td>6</td>\n",
       "      <td>2010-12-01 08:26:00</td>\n",
       "      <td>3.39</td>\n",
       "      <td>17850.0</td>\n",
       "      <td>United Kingdom</td>\n",
       "    </tr>\n",
       "    <tr>\n",
       "      <th>4</th>\n",
       "      <td>536365</td>\n",
       "      <td>84029E</td>\n",
       "      <td>RED WOOLLY HOTTIE WHITE HEART.</td>\n",
       "      <td>6</td>\n",
       "      <td>2010-12-01 08:26:00</td>\n",
       "      <td>3.39</td>\n",
       "      <td>17850.0</td>\n",
       "      <td>United Kingdom</td>\n",
       "    </tr>\n",
       "  </tbody>\n",
       "</table>\n",
       "</div>"
      ],
      "text/plain": [
       "  Invoice StockCode                          Description  Quantity         InvoiceDate  Price  Customer ID         Country\n",
       "0  536365    85123A   WHITE HANGING HEART T-LIGHT HOLDER         6 2010-12-01 08:26:00   2.55      17850.0  United Kingdom\n",
       "1  536365     71053                  WHITE METAL LANTERN         6 2010-12-01 08:26:00   3.39      17850.0  United Kingdom\n",
       "2  536365    84406B       CREAM CUPID HEARTS COAT HANGER         8 2010-12-01 08:26:00   2.75      17850.0  United Kingdom\n",
       "3  536365    84029G  KNITTED UNION FLAG HOT WATER BOTTLE         6 2010-12-01 08:26:00   3.39      17850.0  United Kingdom\n",
       "4  536365    84029E       RED WOOLLY HOTTIE WHITE HEART.         6 2010-12-01 08:26:00   3.39      17850.0  United Kingdom"
      ]
     },
     "execution_count": 172,
     "metadata": {},
     "output_type": "execute_result"
    }
   ],
   "source": [
    "df.head()"
   ]
  },
  {
   "cell_type": "code",
   "execution_count": 173,
   "id": "2cc12519-7d20-46a9-be00-72f1fa9ed68a",
   "metadata": {},
   "outputs": [
    {
     "name": "stdout",
     "output_type": "stream",
     "text": [
      "<class 'pandas.core.frame.DataFrame'>\n",
      "RangeIndex: 541910 entries, 0 to 541909\n",
      "Data columns (total 8 columns):\n",
      " #   Column       Non-Null Count   Dtype         \n",
      "---  ------       --------------   -----         \n",
      " 0   Invoice      541910 non-null  object        \n",
      " 1   StockCode    541910 non-null  object        \n",
      " 2   Description  540456 non-null  object        \n",
      " 3   Quantity     541910 non-null  int64         \n",
      " 4   InvoiceDate  541910 non-null  datetime64[ns]\n",
      " 5   Price        541910 non-null  float64       \n",
      " 6   Customer ID  406830 non-null  float64       \n",
      " 7   Country      541910 non-null  object        \n",
      "dtypes: datetime64[ns](1), float64(2), int64(1), object(4)\n",
      "memory usage: 33.1+ MB\n"
     ]
    }
   ],
   "source": [
    "df.info()"
   ]
  },
  {
   "cell_type": "code",
   "execution_count": 174,
   "id": "de38b106-dd65-4f65-956b-f856d054afec",
   "metadata": {},
   "outputs": [
    {
     "data": {
      "text/html": [
       "<div>\n",
       "<style scoped>\n",
       "    .dataframe tbody tr th:only-of-type {\n",
       "        vertical-align: middle;\n",
       "    }\n",
       "\n",
       "    .dataframe tbody tr th {\n",
       "        vertical-align: top;\n",
       "    }\n",
       "\n",
       "    .dataframe thead th {\n",
       "        text-align: right;\n",
       "    }\n",
       "</style>\n",
       "<table border=\"1\" class=\"dataframe\">\n",
       "  <thead>\n",
       "    <tr style=\"text-align: right;\">\n",
       "      <th></th>\n",
       "      <th>Quantity</th>\n",
       "      <th>Price</th>\n",
       "      <th>Customer ID</th>\n",
       "    </tr>\n",
       "  </thead>\n",
       "  <tbody>\n",
       "    <tr>\n",
       "      <th>count</th>\n",
       "      <td>541910.000000</td>\n",
       "      <td>541910.000000</td>\n",
       "      <td>406830.000000</td>\n",
       "    </tr>\n",
       "    <tr>\n",
       "      <th>mean</th>\n",
       "      <td>9.552234</td>\n",
       "      <td>4.611138</td>\n",
       "      <td>15287.684160</td>\n",
       "    </tr>\n",
       "    <tr>\n",
       "      <th>std</th>\n",
       "      <td>218.080957</td>\n",
       "      <td>96.759765</td>\n",
       "      <td>1713.603074</td>\n",
       "    </tr>\n",
       "    <tr>\n",
       "      <th>min</th>\n",
       "      <td>-80995.000000</td>\n",
       "      <td>-11062.060000</td>\n",
       "      <td>12346.000000</td>\n",
       "    </tr>\n",
       "    <tr>\n",
       "      <th>25%</th>\n",
       "      <td>1.000000</td>\n",
       "      <td>1.250000</td>\n",
       "      <td>13953.000000</td>\n",
       "    </tr>\n",
       "    <tr>\n",
       "      <th>50%</th>\n",
       "      <td>3.000000</td>\n",
       "      <td>2.080000</td>\n",
       "      <td>15152.000000</td>\n",
       "    </tr>\n",
       "    <tr>\n",
       "      <th>75%</th>\n",
       "      <td>10.000000</td>\n",
       "      <td>4.130000</td>\n",
       "      <td>16791.000000</td>\n",
       "    </tr>\n",
       "    <tr>\n",
       "      <th>max</th>\n",
       "      <td>80995.000000</td>\n",
       "      <td>38970.000000</td>\n",
       "      <td>18287.000000</td>\n",
       "    </tr>\n",
       "  </tbody>\n",
       "</table>\n",
       "</div>"
      ],
      "text/plain": [
       "            Quantity          Price    Customer ID\n",
       "count  541910.000000  541910.000000  406830.000000\n",
       "mean        9.552234       4.611138   15287.684160\n",
       "std       218.080957      96.759765    1713.603074\n",
       "min    -80995.000000  -11062.060000   12346.000000\n",
       "25%         1.000000       1.250000   13953.000000\n",
       "50%         3.000000       2.080000   15152.000000\n",
       "75%        10.000000       4.130000   16791.000000\n",
       "max     80995.000000   38970.000000   18287.000000"
      ]
     },
     "execution_count": 174,
     "metadata": {},
     "output_type": "execute_result"
    }
   ],
   "source": [
    "df.describe()"
   ]
  },
  {
   "cell_type": "markdown",
   "id": "bb4e1f2a-3784-4b13-b687-79f1be92a9c8",
   "metadata": {},
   "source": [
    "### Data Preparation"
   ]
  },
  {
   "cell_type": "code",
   "execution_count": 175,
   "id": "4980a7fd-8e24-4b7f-95f3-bea4eb31e297",
   "metadata": {
    "tags": []
   },
   "outputs": [],
   "source": [
    "df = df[df['Quantity'] > 0 ]\n",
    "df = df[df['Price'] > 0]\n",
    "df = df[~df['Invoice'].str.contains(\"C\",na=False)]"
   ]
  },
  {
   "cell_type": "markdown",
   "id": "cfafa285-74e9-46d6-b6e3-81bebc3950b8",
   "metadata": {},
   "source": [
    "### Data Preprocessing"
   ]
  },
  {
   "cell_type": "markdown",
   "id": "31041550-4f5e-4be8-bf2f-b939c474c742",
   "metadata": {},
   "source": [
    "#### Missing Values\n"
   ]
  },
  {
   "cell_type": "code",
   "execution_count": 176,
   "id": "4a999daa-d28b-4246-8f36-cad08762a373",
   "metadata": {},
   "outputs": [],
   "source": [
    "df.dropna(inplace=True)"
   ]
  },
  {
   "cell_type": "markdown",
   "id": "5fbf2765-9bdc-47c1-9976-5d42c5dfde00",
   "metadata": {},
   "source": [
    "#### Outliers"
   ]
  },
  {
   "cell_type": "code",
   "execution_count": 177,
   "id": "42943109-3081-40fb-9528-1197252899c4",
   "metadata": {},
   "outputs": [],
   "source": [
    "def capping_outlier(df, variable, upper_limit=0.99, lower_limit=0.01): \n",
    "    q1 = df[variable].quantile(lower_limit)\n",
    "    q3 = df[variable].quantile(upper_limit)\n",
    "\n",
    "    IQR = q3 - q1\n",
    "\n",
    "    upper_limit = q3 + 1.5 * IQR\n",
    "    lower_limit = q1 - 1.5 * IQR\n",
    "\n",
    "    df.loc[df[variable] > upper_limit, variable] = upper_limit\n",
    "    df.loc[df[variable] < lower_limit, variable] = lower_limit"
   ]
  },
  {
   "cell_type": "code",
   "execution_count": 178,
   "id": "04afe0ee-e9d6-4539-b4b8-da2161cfb4c9",
   "metadata": {},
   "outputs": [],
   "source": [
    "capping_outlier(df,'Price')"
   ]
  },
  {
   "cell_type": "code",
   "execution_count": 179,
   "id": "242f16f2-4359-4233-ac0c-60ada34c83a4",
   "metadata": {},
   "outputs": [],
   "source": [
    "capping_outlier(df,'Quantity')"
   ]
  },
  {
   "cell_type": "markdown",
   "id": "63a1ab42-86a5-4aad-a6bb-eead4100c080",
   "metadata": {},
   "source": [
    "#### Filtering only United Kingdom for Country"
   ]
  },
  {
   "cell_type": "code",
   "execution_count": 180,
   "id": "2fafa02b-d410-432b-8bed-9f31afbb334e",
   "metadata": {},
   "outputs": [],
   "source": [
    "df = df[df.Country == 'United Kingdom']"
   ]
  },
  {
   "cell_type": "code",
   "execution_count": 181,
   "id": "8ba24a65-3f43-403a-b1d2-b170dff16c2b",
   "metadata": {
    "tags": []
   },
   "outputs": [
    {
     "data": {
      "text/html": [
       "<div>\n",
       "<style scoped>\n",
       "    .dataframe tbody tr th:only-of-type {\n",
       "        vertical-align: middle;\n",
       "    }\n",
       "\n",
       "    .dataframe tbody tr th {\n",
       "        vertical-align: top;\n",
       "    }\n",
       "\n",
       "    .dataframe thead th {\n",
       "        text-align: right;\n",
       "    }\n",
       "</style>\n",
       "<table border=\"1\" class=\"dataframe\">\n",
       "  <thead>\n",
       "    <tr style=\"text-align: right;\">\n",
       "      <th></th>\n",
       "      <th>Invoice</th>\n",
       "      <th>StockCode</th>\n",
       "      <th>Description</th>\n",
       "      <th>Quantity</th>\n",
       "      <th>InvoiceDate</th>\n",
       "      <th>Price</th>\n",
       "      <th>Customer ID</th>\n",
       "      <th>Country</th>\n",
       "    </tr>\n",
       "  </thead>\n",
       "  <tbody>\n",
       "    <tr>\n",
       "      <th>0</th>\n",
       "      <td>536365</td>\n",
       "      <td>85123A</td>\n",
       "      <td>WHITE HANGING HEART T-LIGHT HOLDER</td>\n",
       "      <td>6.0</td>\n",
       "      <td>2010-12-01 08:26:00</td>\n",
       "      <td>2.55</td>\n",
       "      <td>17850.0</td>\n",
       "      <td>United Kingdom</td>\n",
       "    </tr>\n",
       "    <tr>\n",
       "      <th>1</th>\n",
       "      <td>536365</td>\n",
       "      <td>71053</td>\n",
       "      <td>WHITE METAL LANTERN</td>\n",
       "      <td>6.0</td>\n",
       "      <td>2010-12-01 08:26:00</td>\n",
       "      <td>3.39</td>\n",
       "      <td>17850.0</td>\n",
       "      <td>United Kingdom</td>\n",
       "    </tr>\n",
       "    <tr>\n",
       "      <th>2</th>\n",
       "      <td>536365</td>\n",
       "      <td>84406B</td>\n",
       "      <td>CREAM CUPID HEARTS COAT HANGER</td>\n",
       "      <td>8.0</td>\n",
       "      <td>2010-12-01 08:26:00</td>\n",
       "      <td>2.75</td>\n",
       "      <td>17850.0</td>\n",
       "      <td>United Kingdom</td>\n",
       "    </tr>\n",
       "    <tr>\n",
       "      <th>3</th>\n",
       "      <td>536365</td>\n",
       "      <td>84029G</td>\n",
       "      <td>KNITTED UNION FLAG HOT WATER BOTTLE</td>\n",
       "      <td>6.0</td>\n",
       "      <td>2010-12-01 08:26:00</td>\n",
       "      <td>3.39</td>\n",
       "      <td>17850.0</td>\n",
       "      <td>United Kingdom</td>\n",
       "    </tr>\n",
       "    <tr>\n",
       "      <th>4</th>\n",
       "      <td>536365</td>\n",
       "      <td>84029E</td>\n",
       "      <td>RED WOOLLY HOTTIE WHITE HEART.</td>\n",
       "      <td>6.0</td>\n",
       "      <td>2010-12-01 08:26:00</td>\n",
       "      <td>3.39</td>\n",
       "      <td>17850.0</td>\n",
       "      <td>United Kingdom</td>\n",
       "    </tr>\n",
       "  </tbody>\n",
       "</table>\n",
       "</div>"
      ],
      "text/plain": [
       "  Invoice StockCode                          Description  Quantity         InvoiceDate  Price  Customer ID         Country\n",
       "0  536365    85123A   WHITE HANGING HEART T-LIGHT HOLDER       6.0 2010-12-01 08:26:00   2.55      17850.0  United Kingdom\n",
       "1  536365     71053                  WHITE METAL LANTERN       6.0 2010-12-01 08:26:00   3.39      17850.0  United Kingdom\n",
       "2  536365    84406B       CREAM CUPID HEARTS COAT HANGER       8.0 2010-12-01 08:26:00   2.75      17850.0  United Kingdom\n",
       "3  536365    84029G  KNITTED UNION FLAG HOT WATER BOTTLE       6.0 2010-12-01 08:26:00   3.39      17850.0  United Kingdom\n",
       "4  536365    84029E       RED WOOLLY HOTTIE WHITE HEART.       6.0 2010-12-01 08:26:00   3.39      17850.0  United Kingdom"
      ]
     },
     "execution_count": 181,
     "metadata": {},
     "output_type": "execute_result"
    }
   ],
   "source": [
    "df.head()"
   ]
  },
  {
   "cell_type": "markdown",
   "id": "0061e10e-d853-4476-8ce3-69db1e80c449",
   "metadata": {},
   "source": [
    "#### Creating Column 'Total Price'"
   ]
  },
  {
   "cell_type": "code",
   "execution_count": 182,
   "id": "5f3dace9-84dc-4427-a43d-82eb54147dff",
   "metadata": {},
   "outputs": [],
   "source": [
    "df['Total Price'] = df['Price'] * df['Quantity']"
   ]
  },
  {
   "cell_type": "markdown",
   "id": "18445a47-ed40-49b4-a252-0da2acf18a34",
   "metadata": {},
   "source": [
    "#### Assign a Date for Analysis Column"
   ]
  },
  {
   "cell_type": "code",
   "execution_count": 183,
   "id": "f9bceb3a-8f01-433e-a1f4-50d911322ec9",
   "metadata": {},
   "outputs": [],
   "source": [
    "today_date = pd.datetime(2011,12,11)"
   ]
  },
  {
   "cell_type": "code",
   "execution_count": 184,
   "id": "dde6303d-dad2-471f-b84e-dfdc220094f4",
   "metadata": {},
   "outputs": [
    {
     "data": {
      "text/html": [
       "<div>\n",
       "<style scoped>\n",
       "    .dataframe tbody tr th:only-of-type {\n",
       "        vertical-align: middle;\n",
       "    }\n",
       "\n",
       "    .dataframe tbody tr th {\n",
       "        vertical-align: top;\n",
       "    }\n",
       "\n",
       "    .dataframe thead th {\n",
       "        text-align: right;\n",
       "    }\n",
       "</style>\n",
       "<table border=\"1\" class=\"dataframe\">\n",
       "  <thead>\n",
       "    <tr style=\"text-align: right;\">\n",
       "      <th></th>\n",
       "      <th>Invoice</th>\n",
       "      <th>StockCode</th>\n",
       "      <th>Description</th>\n",
       "      <th>Quantity</th>\n",
       "      <th>InvoiceDate</th>\n",
       "      <th>Price</th>\n",
       "      <th>Customer ID</th>\n",
       "      <th>Country</th>\n",
       "      <th>Total Price</th>\n",
       "    </tr>\n",
       "  </thead>\n",
       "  <tbody>\n",
       "    <tr>\n",
       "      <th>0</th>\n",
       "      <td>536365</td>\n",
       "      <td>85123A</td>\n",
       "      <td>WHITE HANGING HEART T-LIGHT HOLDER</td>\n",
       "      <td>6.0</td>\n",
       "      <td>2010-12-01 08:26:00</td>\n",
       "      <td>2.55</td>\n",
       "      <td>17850.0</td>\n",
       "      <td>United Kingdom</td>\n",
       "      <td>15.30</td>\n",
       "    </tr>\n",
       "    <tr>\n",
       "      <th>1</th>\n",
       "      <td>536365</td>\n",
       "      <td>71053</td>\n",
       "      <td>WHITE METAL LANTERN</td>\n",
       "      <td>6.0</td>\n",
       "      <td>2010-12-01 08:26:00</td>\n",
       "      <td>3.39</td>\n",
       "      <td>17850.0</td>\n",
       "      <td>United Kingdom</td>\n",
       "      <td>20.34</td>\n",
       "    </tr>\n",
       "    <tr>\n",
       "      <th>2</th>\n",
       "      <td>536365</td>\n",
       "      <td>84406B</td>\n",
       "      <td>CREAM CUPID HEARTS COAT HANGER</td>\n",
       "      <td>8.0</td>\n",
       "      <td>2010-12-01 08:26:00</td>\n",
       "      <td>2.75</td>\n",
       "      <td>17850.0</td>\n",
       "      <td>United Kingdom</td>\n",
       "      <td>22.00</td>\n",
       "    </tr>\n",
       "    <tr>\n",
       "      <th>3</th>\n",
       "      <td>536365</td>\n",
       "      <td>84029G</td>\n",
       "      <td>KNITTED UNION FLAG HOT WATER BOTTLE</td>\n",
       "      <td>6.0</td>\n",
       "      <td>2010-12-01 08:26:00</td>\n",
       "      <td>3.39</td>\n",
       "      <td>17850.0</td>\n",
       "      <td>United Kingdom</td>\n",
       "      <td>20.34</td>\n",
       "    </tr>\n",
       "    <tr>\n",
       "      <th>4</th>\n",
       "      <td>536365</td>\n",
       "      <td>84029E</td>\n",
       "      <td>RED WOOLLY HOTTIE WHITE HEART.</td>\n",
       "      <td>6.0</td>\n",
       "      <td>2010-12-01 08:26:00</td>\n",
       "      <td>3.39</td>\n",
       "      <td>17850.0</td>\n",
       "      <td>United Kingdom</td>\n",
       "      <td>20.34</td>\n",
       "    </tr>\n",
       "  </tbody>\n",
       "</table>\n",
       "</div>"
      ],
      "text/plain": [
       "  Invoice StockCode                          Description  Quantity         InvoiceDate  Price  Customer ID         Country  Total Price\n",
       "0  536365    85123A   WHITE HANGING HEART T-LIGHT HOLDER       6.0 2010-12-01 08:26:00   2.55      17850.0  United Kingdom        15.30\n",
       "1  536365     71053                  WHITE METAL LANTERN       6.0 2010-12-01 08:26:00   3.39      17850.0  United Kingdom        20.34\n",
       "2  536365    84406B       CREAM CUPID HEARTS COAT HANGER       8.0 2010-12-01 08:26:00   2.75      17850.0  United Kingdom        22.00\n",
       "3  536365    84029G  KNITTED UNION FLAG HOT WATER BOTTLE       6.0 2010-12-01 08:26:00   3.39      17850.0  United Kingdom        20.34\n",
       "4  536365    84029E       RED WOOLLY HOTTIE WHITE HEART.       6.0 2010-12-01 08:26:00   3.39      17850.0  United Kingdom        20.34"
      ]
     },
     "execution_count": 184,
     "metadata": {},
     "output_type": "execute_result"
    }
   ],
   "source": [
    "df.head()"
   ]
  },
  {
   "cell_type": "markdown",
   "id": "120d10c3-e43b-4d77-bdd5-7249282832fa",
   "metadata": {},
   "source": [
    "#### Recency , Frequency , T and Monetary Value"
   ]
  },
  {
   "cell_type": "code",
   "execution_count": 185,
   "id": "ef58257d-c29a-4820-bf5d-fafa7af4e968",
   "metadata": {},
   "outputs": [],
   "source": [
    "clv = df.groupby('Customer ID').agg({'InvoiceDate': [lambda x : (x.max() - x.min()).days,lambda x : (today_date - x.min()).days],\n",
    "                               'Invoice' : lambda x : x.nunique(),\n",
    "                               'Total Price' : lambda x : x.sum()})"
   ]
  },
  {
   "cell_type": "code",
   "execution_count": 186,
   "id": "68b4e338-5a0b-49ba-a124-1a54fa7feb16",
   "metadata": {},
   "outputs": [],
   "source": [
    "clv.columns = clv.columns.droplevel(0)"
   ]
  },
  {
   "cell_type": "code",
   "execution_count": 187,
   "id": "29d10112-4396-4398-a9bf-be143fcc596d",
   "metadata": {},
   "outputs": [],
   "source": [
    "clv.columns = ['Recency','T','Frequency','Monetary']"
   ]
  },
  {
   "cell_type": "markdown",
   "id": "ddacda42-8b92-4bd4-a8c4-31e8e1a6bd6b",
   "metadata": {},
   "source": [
    "#### Filtering Dataset with Customer who purchased more than once\n"
   ]
  },
  {
   "cell_type": "code",
   "execution_count": 188,
   "id": "710b13fc-9302-42f2-8042-97fdae575e7a",
   "metadata": {},
   "outputs": [],
   "source": [
    "clv = clv[clv['Frequency']>1]"
   ]
  },
  {
   "cell_type": "code",
   "execution_count": 189,
   "id": "0f1cdccb-9222-427d-80e0-ed39df0e7291",
   "metadata": {},
   "outputs": [
    {
     "data": {
      "text/html": [
       "<div>\n",
       "<style scoped>\n",
       "    .dataframe tbody tr th:only-of-type {\n",
       "        vertical-align: middle;\n",
       "    }\n",
       "\n",
       "    .dataframe tbody tr th {\n",
       "        vertical-align: top;\n",
       "    }\n",
       "\n",
       "    .dataframe thead th {\n",
       "        text-align: right;\n",
       "    }\n",
       "</style>\n",
       "<table border=\"1\" class=\"dataframe\">\n",
       "  <thead>\n",
       "    <tr style=\"text-align: right;\">\n",
       "      <th></th>\n",
       "      <th>Recency</th>\n",
       "      <th>T</th>\n",
       "      <th>Frequency</th>\n",
       "      <th>Monetary</th>\n",
       "    </tr>\n",
       "    <tr>\n",
       "      <th>Customer ID</th>\n",
       "      <th></th>\n",
       "      <th></th>\n",
       "      <th></th>\n",
       "      <th></th>\n",
       "    </tr>\n",
       "  </thead>\n",
       "  <tbody>\n",
       "    <tr>\n",
       "      <th>12747.0</th>\n",
       "      <td>366</td>\n",
       "      <td>370</td>\n",
       "      <td>11</td>\n",
       "      <td>4196.01</td>\n",
       "    </tr>\n",
       "    <tr>\n",
       "      <th>12748.0</th>\n",
       "      <td>372</td>\n",
       "      <td>374</td>\n",
       "      <td>209</td>\n",
       "      <td>32380.41</td>\n",
       "    </tr>\n",
       "    <tr>\n",
       "      <th>12749.0</th>\n",
       "      <td>209</td>\n",
       "      <td>214</td>\n",
       "      <td>5</td>\n",
       "      <td>4077.94</td>\n",
       "    </tr>\n",
       "    <tr>\n",
       "      <th>12820.0</th>\n",
       "      <td>323</td>\n",
       "      <td>327</td>\n",
       "      <td>4</td>\n",
       "      <td>942.34</td>\n",
       "    </tr>\n",
       "    <tr>\n",
       "      <th>12822.0</th>\n",
       "      <td>16</td>\n",
       "      <td>88</td>\n",
       "      <td>2</td>\n",
       "      <td>948.88</td>\n",
       "    </tr>\n",
       "  </tbody>\n",
       "</table>\n",
       "</div>"
      ],
      "text/plain": [
       "             Recency    T  Frequency  Monetary\n",
       "Customer ID                                   \n",
       "12747.0          366  370         11   4196.01\n",
       "12748.0          372  374        209  32380.41\n",
       "12749.0          209  214          5   4077.94\n",
       "12820.0          323  327          4    942.34\n",
       "12822.0           16   88          2    948.88"
      ]
     },
     "execution_count": 189,
     "metadata": {},
     "output_type": "execute_result"
    }
   ],
   "source": [
    "clv.head()"
   ]
  },
  {
   "cell_type": "markdown",
   "id": "3888b11c-bcef-4d28-a8d4-cf44e051b496",
   "metadata": {},
   "source": [
    "#### Getting Average Monetary"
   ]
  },
  {
   "cell_type": "code",
   "execution_count": 190,
   "id": "1214be8c-813b-4aa9-a7a0-373ccef0df46",
   "metadata": {},
   "outputs": [],
   "source": [
    "clv = clv[clv['Monetary'] > 0]\n",
    "clv['Monetary'] = clv['Monetary'] / clv['Frequency']"
   ]
  },
  {
   "cell_type": "code",
   "execution_count": 191,
   "id": "5d7e0641-925a-435b-ba3c-a8061dae65cd",
   "metadata": {},
   "outputs": [
    {
     "data": {
      "text/html": [
       "<div>\n",
       "<style scoped>\n",
       "    .dataframe tbody tr th:only-of-type {\n",
       "        vertical-align: middle;\n",
       "    }\n",
       "\n",
       "    .dataframe tbody tr th {\n",
       "        vertical-align: top;\n",
       "    }\n",
       "\n",
       "    .dataframe thead th {\n",
       "        text-align: right;\n",
       "    }\n",
       "</style>\n",
       "<table border=\"1\" class=\"dataframe\">\n",
       "  <thead>\n",
       "    <tr style=\"text-align: right;\">\n",
       "      <th></th>\n",
       "      <th>Recency</th>\n",
       "      <th>T</th>\n",
       "      <th>Frequency</th>\n",
       "      <th>Monetary</th>\n",
       "    </tr>\n",
       "    <tr>\n",
       "      <th>Customer ID</th>\n",
       "      <th></th>\n",
       "      <th></th>\n",
       "      <th></th>\n",
       "      <th></th>\n",
       "    </tr>\n",
       "  </thead>\n",
       "  <tbody>\n",
       "    <tr>\n",
       "      <th>12747.0</th>\n",
       "      <td>366</td>\n",
       "      <td>370</td>\n",
       "      <td>11</td>\n",
       "      <td>381.455455</td>\n",
       "    </tr>\n",
       "    <tr>\n",
       "      <th>12748.0</th>\n",
       "      <td>372</td>\n",
       "      <td>374</td>\n",
       "      <td>209</td>\n",
       "      <td>154.930191</td>\n",
       "    </tr>\n",
       "    <tr>\n",
       "      <th>12749.0</th>\n",
       "      <td>209</td>\n",
       "      <td>214</td>\n",
       "      <td>5</td>\n",
       "      <td>815.588000</td>\n",
       "    </tr>\n",
       "    <tr>\n",
       "      <th>12820.0</th>\n",
       "      <td>323</td>\n",
       "      <td>327</td>\n",
       "      <td>4</td>\n",
       "      <td>235.585000</td>\n",
       "    </tr>\n",
       "    <tr>\n",
       "      <th>12822.0</th>\n",
       "      <td>16</td>\n",
       "      <td>88</td>\n",
       "      <td>2</td>\n",
       "      <td>474.440000</td>\n",
       "    </tr>\n",
       "  </tbody>\n",
       "</table>\n",
       "</div>"
      ],
      "text/plain": [
       "             Recency    T  Frequency    Monetary\n",
       "Customer ID                                     \n",
       "12747.0          366  370         11  381.455455\n",
       "12748.0          372  374        209  154.930191\n",
       "12749.0          209  214          5  815.588000\n",
       "12820.0          323  327          4  235.585000\n",
       "12822.0           16   88          2  474.440000"
      ]
     },
     "execution_count": 191,
     "metadata": {},
     "output_type": "execute_result"
    }
   ],
   "source": [
    "clv.head()"
   ]
  },
  {
   "cell_type": "code",
   "execution_count": 192,
   "id": "70cad4ce-c9f1-49a2-bc2c-59e36f9bca96",
   "metadata": {},
   "outputs": [
    {
     "data": {
      "text/plain": [
       "<lifetimes.BetaGeoFitter: fitted with 2570 subjects, a: 0.12, alpha: 81.62, b: 2.51, r: 2.21>"
      ]
     },
     "execution_count": 192,
     "metadata": {},
     "output_type": "execute_result"
    }
   ],
   "source": [
    "bgf = BetaGeoFitter(penalizer_coef=0.001)\n",
    "bgf.fit(clv['Frequency'], clv['Recency'], clv['T'])"
   ]
  },
  {
   "cell_type": "markdown",
   "id": "ebf46ca8-f19f-4d23-ac79-863bc6a11172",
   "metadata": {},
   "source": [
    "#### Summary of BetaGeoFitter"
   ]
  },
  {
   "cell_type": "code",
   "execution_count": 193,
   "id": "5d99054d-9cf2-4383-9aa3-32bcf6562ce6",
   "metadata": {},
   "outputs": [
    {
     "data": {
      "text/html": [
       "<div>\n",
       "<style scoped>\n",
       "    .dataframe tbody tr th:only-of-type {\n",
       "        vertical-align: middle;\n",
       "    }\n",
       "\n",
       "    .dataframe tbody tr th {\n",
       "        vertical-align: top;\n",
       "    }\n",
       "\n",
       "    .dataframe thead th {\n",
       "        text-align: right;\n",
       "    }\n",
       "</style>\n",
       "<table border=\"1\" class=\"dataframe\">\n",
       "  <thead>\n",
       "    <tr style=\"text-align: right;\">\n",
       "      <th></th>\n",
       "      <th>coef</th>\n",
       "      <th>se(coef)</th>\n",
       "      <th>lower 95% bound</th>\n",
       "      <th>upper 95% bound</th>\n",
       "    </tr>\n",
       "  </thead>\n",
       "  <tbody>\n",
       "    <tr>\n",
       "      <th>r</th>\n",
       "      <td>2.213307</td>\n",
       "      <td>0.081434</td>\n",
       "      <td>2.053697</td>\n",
       "      <td>2.372918</td>\n",
       "    </tr>\n",
       "    <tr>\n",
       "      <th>alpha</th>\n",
       "      <td>81.623457</td>\n",
       "      <td>3.495006</td>\n",
       "      <td>74.773247</td>\n",
       "      <td>88.473668</td>\n",
       "    </tr>\n",
       "    <tr>\n",
       "      <th>a</th>\n",
       "      <td>0.117181</td>\n",
       "      <td>0.013297</td>\n",
       "      <td>0.091118</td>\n",
       "      <td>0.143243</td>\n",
       "    </tr>\n",
       "    <tr>\n",
       "      <th>b</th>\n",
       "      <td>2.505639</td>\n",
       "      <td>0.243061</td>\n",
       "      <td>2.029239</td>\n",
       "      <td>2.982039</td>\n",
       "    </tr>\n",
       "  </tbody>\n",
       "</table>\n",
       "</div>"
      ],
      "text/plain": [
       "            coef  se(coef)  lower 95% bound  upper 95% bound\n",
       "r       2.213307  0.081434         2.053697         2.372918\n",
       "alpha  81.623457  3.495006        74.773247        88.473668\n",
       "a       0.117181  0.013297         0.091118         0.143243\n",
       "b       2.505639  0.243061         2.029239         2.982039"
      ]
     },
     "execution_count": 193,
     "metadata": {},
     "output_type": "execute_result"
    }
   ],
   "source": [
    "bgf.summary"
   ]
  },
  {
   "cell_type": "code",
   "execution_count": 194,
   "id": "9a9dd4fd-63f9-455e-84e2-76c449b13d61",
   "metadata": {},
   "outputs": [
    {
     "data": {
      "image/png": "[encoded data removed]",
      "text/plain": [
       "<Figure size 864x648 with 2 Axes>"
      ]
     },
     "metadata": {
      "needs_background": "light"
     },
     "output_type": "display_data"
    }
   ],
   "source": [
    "plt.figure(figsize=(12,9))\n",
    "plot_frequency_recency_matrix(bgf)\n",
    "plt.show()"
   ]
  },
  {
   "cell_type": "code",
   "execution_count": 195,
   "id": "8ddb79cc-be94-4934-bd11-2d4f2653c449",
   "metadata": {},
   "outputs": [
    {
     "data": {
      "image/png": "[encoded data removed]",
      "text/plain": [
       "<Figure size 864x648 with 2 Axes>"
      ]
     },
     "metadata": {
      "needs_background": "light"
     },
     "output_type": "display_data"
    }
   ],
   "source": [
    "plt.figure(figsize=(12,9))\n",
    "plot_probability_alive_matrix(bgf)\n",
    "plt.show()"
   ]
  },
  {
   "cell_type": "markdown",
   "id": "ba283f5b-7e4d-4613-bef0-7d5264770db7",
   "metadata": {},
   "source": [
    "#### Expected Purchase  in 6 Months"
   ]
  },
  {
   "cell_type": "code",
   "execution_count": 196,
   "id": "3354b457-cbb3-4cf8-9df8-e83adabf9475",
   "metadata": {},
   "outputs": [
    {
     "data": {
      "text/html": [
       "<div>\n",
       "<style scoped>\n",
       "    .dataframe tbody tr th:only-of-type {\n",
       "        vertical-align: middle;\n",
       "    }\n",
       "\n",
       "    .dataframe tbody tr th {\n",
       "        vertical-align: top;\n",
       "    }\n",
       "\n",
       "    .dataframe thead th {\n",
       "        text-align: right;\n",
       "    }\n",
       "</style>\n",
       "<table border=\"1\" class=\"dataframe\">\n",
       "  <thead>\n",
       "    <tr style=\"text-align: right;\">\n",
       "      <th></th>\n",
       "      <th>Recency</th>\n",
       "      <th>T</th>\n",
       "      <th>Frequency</th>\n",
       "      <th>Monetary</th>\n",
       "      <th>expected_purc_6_months</th>\n",
       "    </tr>\n",
       "    <tr>\n",
       "      <th>Customer ID</th>\n",
       "      <th></th>\n",
       "      <th></th>\n",
       "      <th></th>\n",
       "      <th></th>\n",
       "      <th></th>\n",
       "    </tr>\n",
       "  </thead>\n",
       "  <tbody>\n",
       "    <tr>\n",
       "      <th>12748.0</th>\n",
       "      <td>372</td>\n",
       "      <td>374</td>\n",
       "      <td>209</td>\n",
       "      <td>154.930191</td>\n",
       "      <td>81.628170</td>\n",
       "    </tr>\n",
       "    <tr>\n",
       "      <th>17841.0</th>\n",
       "      <td>371</td>\n",
       "      <td>374</td>\n",
       "      <td>124</td>\n",
       "      <td>330.134355</td>\n",
       "      <td>48.740321</td>\n",
       "    </tr>\n",
       "    <tr>\n",
       "      <th>13089.0</th>\n",
       "      <td>366</td>\n",
       "      <td>370</td>\n",
       "      <td>97</td>\n",
       "      <td>606.362474</td>\n",
       "      <td>38.617783</td>\n",
       "    </tr>\n",
       "    <tr>\n",
       "      <th>14606.0</th>\n",
       "      <td>372</td>\n",
       "      <td>374</td>\n",
       "      <td>93</td>\n",
       "      <td>130.139032</td>\n",
       "      <td>36.777602</td>\n",
       "    </tr>\n",
       "    <tr>\n",
       "      <th>15311.0</th>\n",
       "      <td>373</td>\n",
       "      <td>374</td>\n",
       "      <td>91</td>\n",
       "      <td>667.779121</td>\n",
       "      <td>36.016860</td>\n",
       "    </tr>\n",
       "  </tbody>\n",
       "</table>\n",
       "</div>"
      ],
      "text/plain": [
       "             Recency    T  Frequency    Monetary  expected_purc_6_months\n",
       "Customer ID                                                             \n",
       "12748.0          372  374        209  154.930191               81.628170\n",
       "17841.0          371  374        124  330.134355               48.740321\n",
       "13089.0          366  370         97  606.362474               38.617783\n",
       "14606.0          372  374         93  130.139032               36.777602\n",
       "15311.0          373  374         91  667.779121               36.016860"
      ]
     },
     "execution_count": 196,
     "metadata": {},
     "output_type": "execute_result"
    }
   ],
   "source": [
    "t = 180 # 30 day period\n",
    "clv['expected_purc_6_months'] = bgf.conditional_expected_number_of_purchases_up_to_time(t, clv['Frequency'], clv['Recency'], clv['T'])\n",
    "clv.sort_values(by='expected_purc_6_months',ascending=False).head(5)"
   ]
  },
  {
   "cell_type": "markdown",
   "id": "97af4ba1-168f-43f0-a694-92e843368284",
   "metadata": {},
   "source": [
    "#### Expected Purchase ın 12 Months"
   ]
  },
  {
   "cell_type": "code",
   "execution_count": 197,
   "id": "46b4c15d-d8f5-41f0-8c04-ead29a85573a",
   "metadata": {},
   "outputs": [
    {
     "data": {
      "text/html": [
       "<div>\n",
       "<style scoped>\n",
       "    .dataframe tbody tr th:only-of-type {\n",
       "        vertical-align: middle;\n",
       "    }\n",
       "\n",
       "    .dataframe tbody tr th {\n",
       "        vertical-align: top;\n",
       "    }\n",
       "\n",
       "    .dataframe thead th {\n",
       "        text-align: right;\n",
       "    }\n",
       "</style>\n",
       "<table border=\"1\" class=\"dataframe\">\n",
       "  <thead>\n",
       "    <tr style=\"text-align: right;\">\n",
       "      <th></th>\n",
       "      <th>Recency</th>\n",
       "      <th>T</th>\n",
       "      <th>Frequency</th>\n",
       "      <th>Monetary</th>\n",
       "      <th>expected_purc_6_months</th>\n",
       "      <th>expected_purc_12_months</th>\n",
       "    </tr>\n",
       "    <tr>\n",
       "      <th>Customer ID</th>\n",
       "      <th></th>\n",
       "      <th></th>\n",
       "      <th></th>\n",
       "      <th></th>\n",
       "      <th></th>\n",
       "      <th></th>\n",
       "    </tr>\n",
       "  </thead>\n",
       "  <tbody>\n",
       "    <tr>\n",
       "      <th>12748.0</th>\n",
       "      <td>372</td>\n",
       "      <td>374</td>\n",
       "      <td>209</td>\n",
       "      <td>154.930191</td>\n",
       "      <td>81.628170</td>\n",
       "      <td>160.548193</td>\n",
       "    </tr>\n",
       "    <tr>\n",
       "      <th>17841.0</th>\n",
       "      <td>371</td>\n",
       "      <td>374</td>\n",
       "      <td>124</td>\n",
       "      <td>330.134355</td>\n",
       "      <td>48.740321</td>\n",
       "      <td>95.861404</td>\n",
       "    </tr>\n",
       "    <tr>\n",
       "      <th>13089.0</th>\n",
       "      <td>366</td>\n",
       "      <td>370</td>\n",
       "      <td>97</td>\n",
       "      <td>606.362474</td>\n",
       "      <td>38.617783</td>\n",
       "      <td>75.943217</td>\n",
       "    </tr>\n",
       "    <tr>\n",
       "      <th>14606.0</th>\n",
       "      <td>372</td>\n",
       "      <td>374</td>\n",
       "      <td>93</td>\n",
       "      <td>130.139032</td>\n",
       "      <td>36.777602</td>\n",
       "      <td>72.332050</td>\n",
       "    </tr>\n",
       "    <tr>\n",
       "      <th>15311.0</th>\n",
       "      <td>373</td>\n",
       "      <td>374</td>\n",
       "      <td>91</td>\n",
       "      <td>667.779121</td>\n",
       "      <td>36.016860</td>\n",
       "      <td>70.835751</td>\n",
       "    </tr>\n",
       "  </tbody>\n",
       "</table>\n",
       "</div>"
      ],
      "text/plain": [
       "             Recency    T  Frequency    Monetary  expected_purc_6_months  expected_purc_12_months\n",
       "Customer ID                                                                                      \n",
       "12748.0          372  374        209  154.930191               81.628170               160.548193\n",
       "17841.0          371  374        124  330.134355               48.740321                95.861404\n",
       "13089.0          366  370         97  606.362474               38.617783                75.943217\n",
       "14606.0          372  374         93  130.139032               36.777602                72.332050\n",
       "15311.0          373  374         91  667.779121               36.016860                70.835751"
      ]
     },
     "execution_count": 197,
     "metadata": {},
     "output_type": "execute_result"
    }
   ],
   "source": [
    "t = 360\n",
    "clv['expected_purc_12_months'] = bgf.conditional_expected_number_of_purchases_up_to_time(t, clv['Frequency'], clv['Recency'], clv['T'])\n",
    "clv.sort_values(by='expected_purc_12_months',ascending=False).head(5)"
   ]
  },
  {
   "cell_type": "markdown",
   "id": "f08eca53-d43d-4780-87b5-ee9997e1728f",
   "metadata": {},
   "source": [
    "### Gamma - Gamma Model"
   ]
  },
  {
   "cell_type": "markdown",
   "id": "8c2fc1cf-12aa-4272-9433-5a536193b885",
   "metadata": {},
   "source": [
    "The Gamma-Gamma Model can predict the most likely value per transaction in the future"
   ]
  },
  {
   "cell_type": "markdown",
   "id": "367dceca-0a96-4c37-b013-c3ab299594d8",
   "metadata": {},
   "source": [
    "#### Assumption"
   ]
  },
  {
   "cell_type": "markdown",
   "id": "fbe2e51c-4ad9-481d-9033-3c782de1e8f1",
   "metadata": {},
   "source": [
    "The model we are going to use to estimate the CLV for our userbase is called the Gamma-Gamma submodel, which relies upon an important assumption. The Gamma-Gamma submodel, in fact, assumes that there is no relationship between the monetary value and the purchase frequency. In practice we need to check whether the Pearson correlation between the two vectors is close to 0 in order to use this model."
   ]
  },
  {
   "cell_type": "code",
   "execution_count": 198,
   "id": "0d52d747-a7f6-4ef1-9f0a-a36eb9d358c3",
   "metadata": {},
   "outputs": [
    {
     "data": {
      "text/html": [
       "<div>\n",
       "<style scoped>\n",
       "    .dataframe tbody tr th:only-of-type {\n",
       "        vertical-align: middle;\n",
       "    }\n",
       "\n",
       "    .dataframe tbody tr th {\n",
       "        vertical-align: top;\n",
       "    }\n",
       "\n",
       "    .dataframe thead th {\n",
       "        text-align: right;\n",
       "    }\n",
       "</style>\n",
       "<table border=\"1\" class=\"dataframe\">\n",
       "  <thead>\n",
       "    <tr style=\"text-align: right;\">\n",
       "      <th></th>\n",
       "      <th>Frequency</th>\n",
       "      <th>Monetary</th>\n",
       "    </tr>\n",
       "  </thead>\n",
       "  <tbody>\n",
       "    <tr>\n",
       "      <th>Frequency</th>\n",
       "      <td>1.000000</td>\n",
       "      <td>0.157255</td>\n",
       "    </tr>\n",
       "    <tr>\n",
       "      <th>Monetary</th>\n",
       "      <td>0.157255</td>\n",
       "      <td>1.000000</td>\n",
       "    </tr>\n",
       "  </tbody>\n",
       "</table>\n",
       "</div>"
      ],
      "text/plain": [
       "           Frequency  Monetary\n",
       "Frequency   1.000000  0.157255\n",
       "Monetary    0.157255  1.000000"
      ]
     },
     "execution_count": 198,
     "metadata": {},
     "output_type": "execute_result"
    }
   ],
   "source": [
    "clv[['Frequency','Monetary']].corr()"
   ]
  },
  {
   "cell_type": "markdown",
   "id": "33f74ab1-e808-4a0e-9bdd-ba0cd07e82d3",
   "metadata": {},
   "source": [
    "At this point we can train our Gamma-Gamma submodel and predict the conditional, expected average lifetime value of our customers."
   ]
  },
  {
   "cell_type": "code",
   "execution_count": 199,
   "id": "c4d8e682-d956-486c-9770-d5d96a2b839d",
   "metadata": {},
   "outputs": [
    {
     "data": {
      "text/plain": [
       "<lifetimes.GammaGammaFitter: fitted with 2570 subjects, p: 3.81, q: 0.35, v: 3.75>"
      ]
     },
     "execution_count": 199,
     "metadata": {},
     "output_type": "execute_result"
    }
   ],
   "source": [
    "ggf = GammaGammaFitter(penalizer_coef=0.01)\n",
    "ggf.fit(clv[\"Frequency\"],\n",
    "        clv[\"Monetary\"])"
   ]
  },
  {
   "cell_type": "markdown",
   "id": "1c18b83c-07f3-4b8f-bb8a-25c04ab0d5af",
   "metadata": {},
   "source": [
    "### 6 months Customer Life Time Value"
   ]
  },
  {
   "cell_type": "code",
   "execution_count": 200,
   "id": "3150bf5e-ce9f-4b18-98d3-1e22c4c1cf7a",
   "metadata": {},
   "outputs": [],
   "source": [
    "clv['6_monhths_clv']=ggf.customer_lifetime_value(bgf,\n",
    "                                   clv[\"Frequency\"],\n",
    "                                   clv[\"Recency\"],\n",
    "                                   clv[\"T\"],\n",
    "                                   clv[\"Monetary\"],\n",
    "                                   time=6,\n",
    "                                   freq='D',\n",
    "                                   discount_rate=0.01)"
   ]
  },
  {
   "cell_type": "code",
   "execution_count": 201,
   "id": "31a7e1e1-ca77-45c0-8fb4-41d32c7ac2d4",
   "metadata": {},
   "outputs": [
    {
     "data": {
      "text/html": [
       "<div>\n",
       "<style scoped>\n",
       "    .dataframe tbody tr th:only-of-type {\n",
       "        vertical-align: middle;\n",
       "    }\n",
       "\n",
       "    .dataframe tbody tr th {\n",
       "        vertical-align: top;\n",
       "    }\n",
       "\n",
       "    .dataframe thead th {\n",
       "        text-align: right;\n",
       "    }\n",
       "</style>\n",
       "<table border=\"1\" class=\"dataframe\">\n",
       "  <thead>\n",
       "    <tr style=\"text-align: right;\">\n",
       "      <th></th>\n",
       "      <th>Recency</th>\n",
       "      <th>T</th>\n",
       "      <th>Frequency</th>\n",
       "      <th>Monetary</th>\n",
       "      <th>expected_purc_6_months</th>\n",
       "      <th>expected_purc_12_months</th>\n",
       "      <th>6_monhths_clv</th>\n",
       "    </tr>\n",
       "    <tr>\n",
       "      <th>Customer ID</th>\n",
       "      <th></th>\n",
       "      <th></th>\n",
       "      <th></th>\n",
       "      <th></th>\n",
       "      <th></th>\n",
       "      <th></th>\n",
       "      <th></th>\n",
       "    </tr>\n",
       "  </thead>\n",
       "  <tbody>\n",
       "    <tr>\n",
       "      <th>12747.0</th>\n",
       "      <td>366</td>\n",
       "      <td>370</td>\n",
       "      <td>11</td>\n",
       "      <td>381.455455</td>\n",
       "      <td>5.100607</td>\n",
       "      <td>10.025868</td>\n",
       "      <td>1911.104735</td>\n",
       "    </tr>\n",
       "    <tr>\n",
       "      <th>12748.0</th>\n",
       "      <td>372</td>\n",
       "      <td>374</td>\n",
       "      <td>209</td>\n",
       "      <td>154.930191</td>\n",
       "      <td>81.628170</td>\n",
       "      <td>160.548193</td>\n",
       "      <td>12229.306448</td>\n",
       "    </tr>\n",
       "    <tr>\n",
       "      <th>12749.0</th>\n",
       "      <td>209</td>\n",
       "      <td>214</td>\n",
       "      <td>5</td>\n",
       "      <td>815.588000</td>\n",
       "      <td>4.169137</td>\n",
       "      <td>8.143255</td>\n",
       "      <td>3404.849199</td>\n",
       "    </tr>\n",
       "    <tr>\n",
       "      <th>12820.0</th>\n",
       "      <td>323</td>\n",
       "      <td>327</td>\n",
       "      <td>4</td>\n",
       "      <td>235.585000</td>\n",
       "      <td>2.611912</td>\n",
       "      <td>5.124343</td>\n",
       "      <td>623.517682</td>\n",
       "    </tr>\n",
       "    <tr>\n",
       "      <th>12822.0</th>\n",
       "      <td>16</td>\n",
       "      <td>88</td>\n",
       "      <td>2</td>\n",
       "      <td>474.440000</td>\n",
       "      <td>3.161164</td>\n",
       "      <td>6.114187</td>\n",
       "      <td>1591.132692</td>\n",
       "    </tr>\n",
       "  </tbody>\n",
       "</table>\n",
       "</div>"
      ],
      "text/plain": [
       "             Recency    T  Frequency    Monetary  expected_purc_6_months  expected_purc_12_months  6_monhths_clv\n",
       "Customer ID                                                                                                     \n",
       "12747.0          366  370         11  381.455455                5.100607                10.025868    1911.104735\n",
       "12748.0          372  374        209  154.930191               81.628170               160.548193   12229.306448\n",
       "12749.0          209  214          5  815.588000                4.169137                 8.143255    3404.849199\n",
       "12820.0          323  327          4  235.585000                2.611912                 5.124343     623.517682\n",
       "12822.0           16   88          2  474.440000                3.161164                 6.114187    1591.132692"
      ]
     },
     "execution_count": 201,
     "metadata": {},
     "output_type": "execute_result"
    }
   ],
   "source": [
    "clv.head()"
   ]
  },
  {
   "cell_type": "markdown",
   "id": "672d96fa-f204-4112-aa10-7e2dbcc56834",
   "metadata": {},
   "source": [
    "###  12 Months Customer Lifetime Value"
   ]
  },
  {
   "cell_type": "code",
   "execution_count": 202,
   "id": "298629e9-ca6c-4d9d-84d9-211f689919cc",
   "metadata": {},
   "outputs": [],
   "source": [
    "clv['12_months_clv'] = ggf.customer_lifetime_value(bgf,\n",
    "                            clv[\"Frequency\"],\n",
    "                             clv[\"Recency\"],\n",
    "                             clv[\"T\"],\n",
    "                             clv[\"Monetary\"],\n",
    "                             time=12,\n",
    "                             freq=\"D\",\n",
    "                             discount_rate=0.01)"
   ]
  },
  {
   "cell_type": "markdown",
   "id": "61b0eb52-ee55-4ad0-b09e-f73f74aa1d80",
   "metadata": {},
   "source": [
    "#### Segmentation Customers by 6 Months CLV"
   ]
  },
  {
   "cell_type": "code",
   "execution_count": 203,
   "id": "b1bd90a1-0b8c-4163-b8d2-7ad5982189af",
   "metadata": {},
   "outputs": [],
   "source": [
    "clv['Segment'] =  pd.qcut(clv['6_monhths_clv'],4,labels = ['Hibernating','Need Attention',\n",
    "                                                          'Loyal Customers','Champions'])"
   ]
  },
  {
   "cell_type": "markdown",
   "id": "45a4659d-ac27-4e13-a613-6a2ac6120d17",
   "metadata": {},
   "source": [
    "### Final Dataframe"
   ]
  },
  {
   "cell_type": "code",
   "execution_count": 204,
   "id": "1ef9f89f-2ba0-468a-9e30-81bdf67f3ac3",
   "metadata": {},
   "outputs": [
    {
     "data": {
      "text/html": [
       "<div>\n",
       "<style scoped>\n",
       "    .dataframe tbody tr th:only-of-type {\n",
       "        vertical-align: middle;\n",
       "    }\n",
       "\n",
       "    .dataframe tbody tr th {\n",
       "        vertical-align: top;\n",
       "    }\n",
       "\n",
       "    .dataframe thead th {\n",
       "        text-align: right;\n",
       "    }\n",
       "</style>\n",
       "<table border=\"1\" class=\"dataframe\">\n",
       "  <thead>\n",
       "    <tr style=\"text-align: right;\">\n",
       "      <th></th>\n",
       "      <th>Recency</th>\n",
       "      <th>T</th>\n",
       "      <th>Frequency</th>\n",
       "      <th>Monetary</th>\n",
       "      <th>expected_purc_6_months</th>\n",
       "      <th>expected_purc_12_months</th>\n",
       "      <th>6_monhths_clv</th>\n",
       "      <th>12_months_clv</th>\n",
       "      <th>Segment</th>\n",
       "    </tr>\n",
       "    <tr>\n",
       "      <th>Customer ID</th>\n",
       "      <th></th>\n",
       "      <th></th>\n",
       "      <th></th>\n",
       "      <th></th>\n",
       "      <th></th>\n",
       "      <th></th>\n",
       "      <th></th>\n",
       "      <th></th>\n",
       "      <th></th>\n",
       "    </tr>\n",
       "  </thead>\n",
       "  <tbody>\n",
       "    <tr>\n",
       "      <th>12747.0</th>\n",
       "      <td>366</td>\n",
       "      <td>370</td>\n",
       "      <td>11</td>\n",
       "      <td>381.455455</td>\n",
       "      <td>5.100607</td>\n",
       "      <td>10.025868</td>\n",
       "      <td>1911.104735</td>\n",
       "      <td>3649.472536</td>\n",
       "      <td>Champions</td>\n",
       "    </tr>\n",
       "    <tr>\n",
       "      <th>12748.0</th>\n",
       "      <td>372</td>\n",
       "      <td>374</td>\n",
       "      <td>209</td>\n",
       "      <td>154.930191</td>\n",
       "      <td>81.628170</td>\n",
       "      <td>160.548193</td>\n",
       "      <td>12229.306448</td>\n",
       "      <td>23367.127112</td>\n",
       "      <td>Champions</td>\n",
       "    </tr>\n",
       "    <tr>\n",
       "      <th>12749.0</th>\n",
       "      <td>209</td>\n",
       "      <td>214</td>\n",
       "      <td>5</td>\n",
       "      <td>815.588000</td>\n",
       "      <td>4.169137</td>\n",
       "      <td>8.143255</td>\n",
       "      <td>3404.849199</td>\n",
       "      <td>6462.042095</td>\n",
       "      <td>Champions</td>\n",
       "    </tr>\n",
       "    <tr>\n",
       "      <th>12820.0</th>\n",
       "      <td>323</td>\n",
       "      <td>327</td>\n",
       "      <td>4</td>\n",
       "      <td>235.585000</td>\n",
       "      <td>2.611912</td>\n",
       "      <td>5.124343</td>\n",
       "      <td>623.517682</td>\n",
       "      <td>1188.492464</td>\n",
       "      <td>Need Attention</td>\n",
       "    </tr>\n",
       "    <tr>\n",
       "      <th>12822.0</th>\n",
       "      <td>16</td>\n",
       "      <td>88</td>\n",
       "      <td>2</td>\n",
       "      <td>474.440000</td>\n",
       "      <td>3.161164</td>\n",
       "      <td>6.114187</td>\n",
       "      <td>1591.132692</td>\n",
       "      <td>2991.086802</td>\n",
       "      <td>Loyal Customers</td>\n",
       "    </tr>\n",
       "  </tbody>\n",
       "</table>\n",
       "</div>"
      ],
      "text/plain": [
       "             Recency    T  Frequency    Monetary  expected_purc_6_months  expected_purc_12_months  6_monhths_clv  12_months_clv          Segment\n",
       "Customer ID                                                                                                                                     \n",
       "12747.0          366  370         11  381.455455                5.100607                10.025868    1911.104735    3649.472536        Champions\n",
       "12748.0          372  374        209  154.930191               81.628170               160.548193   12229.306448   23367.127112        Champions\n",
       "12749.0          209  214          5  815.588000                4.169137                 8.143255    3404.849199    6462.042095        Champions\n",
       "12820.0          323  327          4  235.585000                2.611912                 5.124343     623.517682    1188.492464   Need Attention\n",
       "12822.0           16   88          2  474.440000                3.161164                 6.114187    1591.132692    2991.086802  Loyal Customers"
      ]
     },
     "execution_count": 204,
     "metadata": {},
     "output_type": "execute_result"
    }
   ],
   "source": [
    "clv.head()"
   ]
  },
  {
   "cell_type": "markdown",
   "id": "a25a8a47-5dfb-45dc-8012-99545668ad4f",
   "metadata": {},
   "source": [
    "### Group by Segment"
   ]
  },
  {
   "cell_type": "code",
   "execution_count": 205,
   "id": "69934597-fbad-46f9-a7eb-6fcaf1204eb0",
   "metadata": {},
   "outputs": [
    {
     "data": {
      "text/html": [
       "<div>\n",
       "<style scoped>\n",
       "    .dataframe tbody tr th:only-of-type {\n",
       "        vertical-align: middle;\n",
       "    }\n",
       "\n",
       "    .dataframe tbody tr th {\n",
       "        vertical-align: top;\n",
       "    }\n",
       "\n",
       "    .dataframe thead th {\n",
       "        text-align: right;\n",
       "    }\n",
       "</style>\n",
       "<table border=\"1\" class=\"dataframe\">\n",
       "  <thead>\n",
       "    <tr style=\"text-align: right;\">\n",
       "      <th></th>\n",
       "      <th>Recency</th>\n",
       "      <th>T</th>\n",
       "      <th>Frequency</th>\n",
       "      <th>Monetary</th>\n",
       "      <th>expected_purc_6_months</th>\n",
       "      <th>expected_purc_12_months</th>\n",
       "      <th>6_monhths_clv</th>\n",
       "      <th>12_months_clv</th>\n",
       "    </tr>\n",
       "    <tr>\n",
       "      <th>Segment</th>\n",
       "      <th></th>\n",
       "      <th></th>\n",
       "      <th></th>\n",
       "      <th></th>\n",
       "      <th></th>\n",
       "      <th></th>\n",
       "      <th></th>\n",
       "      <th></th>\n",
       "    </tr>\n",
       "  </thead>\n",
       "  <tbody>\n",
       "    <tr>\n",
       "      <th>Hibernating</th>\n",
       "      <td>154.489891</td>\n",
       "      <td>283.891135</td>\n",
       "      <td>3.068429</td>\n",
       "      <td>178.889193</td>\n",
       "      <td>1.769037</td>\n",
       "      <td>3.458122</td>\n",
       "      <td>266.951623</td>\n",
       "      <td>507.500067</td>\n",
       "    </tr>\n",
       "    <tr>\n",
       "      <th>Need Attention</th>\n",
       "      <td>215.834891</td>\n",
       "      <td>266.830218</td>\n",
       "      <td>3.989097</td>\n",
       "      <td>260.735481</td>\n",
       "      <td>2.983166</td>\n",
       "      <td>5.829408</td>\n",
       "      <td>703.080850</td>\n",
       "      <td>1336.036318</td>\n",
       "    </tr>\n",
       "    <tr>\n",
       "      <th>Loyal Customers</th>\n",
       "      <td>208.978193</td>\n",
       "      <td>245.889408</td>\n",
       "      <td>5.457944</td>\n",
       "      <td>352.807407</td>\n",
       "      <td>4.013086</td>\n",
       "      <td>7.832423</td>\n",
       "      <td>1257.349961</td>\n",
       "      <td>2386.239553</td>\n",
       "    </tr>\n",
       "    <tr>\n",
       "      <th>Champions</th>\n",
       "      <td>220.118196</td>\n",
       "      <td>241.564541</td>\n",
       "      <td>11.287714</td>\n",
       "      <td>591.567014</td>\n",
       "      <td>6.788049</td>\n",
       "      <td>13.263364</td>\n",
       "      <td>3802.204156</td>\n",
       "      <td>7220.768378</td>\n",
       "    </tr>\n",
       "  </tbody>\n",
       "</table>\n",
       "</div>"
      ],
      "text/plain": [
       "                    Recency           T  Frequency    Monetary  expected_purc_6_months  expected_purc_12_months  6_monhths_clv  12_months_clv\n",
       "Segment                                                                                                                                      \n",
       "Hibernating      154.489891  283.891135   3.068429  178.889193                1.769037                 3.458122     266.951623     507.500067\n",
       "Need Attention   215.834891  266.830218   3.989097  260.735481                2.983166                 5.829408     703.080850    1336.036318\n",
       "Loyal Customers  208.978193  245.889408   5.457944  352.807407                4.013086                 7.832423    1257.349961    2386.239553\n",
       "Champions        220.118196  241.564541  11.287714  591.567014                6.788049                13.263364    3802.204156    7220.768378"
      ]
     },
     "execution_count": 205,
     "metadata": {},
     "output_type": "execute_result"
    }
   ],
   "source": [
    "clv.groupby('Segment').mean()"
   ]
  }
 ],
 "metadata": {
  "kernelspec": {
   "display_name": "rfm",
   "language": "python",
   "name": "rfm"
  },
  "language_info": {
   "codemirror_mode": {
    "name": "ipython",
    "version": 3
   },
   "file_extension": ".py",
   "mimetype": "text/x-python",
   "name": "python",
   "nbconvert_exporter": "python",
   "pygments_lexer": "ipython3",
   "version": "3.9.7"
  }
 },
 "nbformat": 4,
 "nbformat_minor": 5
}
