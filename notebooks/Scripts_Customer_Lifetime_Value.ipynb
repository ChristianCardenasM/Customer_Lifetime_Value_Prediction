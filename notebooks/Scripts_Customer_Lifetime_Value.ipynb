{
 "cells": [
  {
   "cell_type": "markdown",
   "id": "6ccc7509-1aeb-4bc1-bcf8-cca1b4871e85",
   "metadata": {},
   "source": [
    "<center><h1>Scripts del Proyecto</h1></center>"
   ]
  },
  {
   "cell_type": "markdown",
   "id": "e34dfee7-d4f3-4bc9-9706-0af178ab7205",
   "metadata": {},
   "source": [
    "# 1. Preparación de Datos"
   ]
  },
  {
   "cell_type": "code",
   "execution_count": 75,
   "id": "59db5065-b1d7-4f71-8570-316d71dc03df",
   "metadata": {},
   "outputs": [],
   "source": [
    "import pandas as pd\n",
    "import numpy as np\n",
    "import lifetimes\n",
    "\n",
    "# Lectura del archivo original\n",
    "\n",
    "df = pd.read_csv('../data/raw/Online_Retail.csv')"
   ]
  },
  {
   "cell_type": "code",
   "execution_count": 76,
   "id": "4980a7fd-8e24-4b7f-95f3-bea4eb31e297",
   "metadata": {
    "tags": []
   },
   "outputs": [],
   "source": [
    "# Nos quedamos los valores de Precio y Cantidad mayores a cero\n",
    "\n",
    "df = df[df['Quantity'] > 0 ]\n",
    "df = df[df['UnitPrice'] > 0]\n",
    "df = df[~df['InvoiceNo'].str.contains(\"C\",na=False)] # drop returned items"
   ]
  },
  {
   "cell_type": "code",
   "execution_count": 77,
   "id": "4a999daa-d28b-4246-8f36-cad08762a373",
   "metadata": {},
   "outputs": [],
   "source": [
    "# Eliminación de valores perdidos\n",
    "\n",
    "df.dropna(inplace=True)"
   ]
  },
  {
   "cell_type": "code",
   "execution_count": 78,
   "id": "42943109-3081-40fb-9528-1197252899c4",
   "metadata": {},
   "outputs": [],
   "source": [
    "# Manejo de Outliers\n",
    "\n",
    "def find_boundaries(df, variable, q1=0.05, q2=0.95):\n",
    "\n",
    "    # the boundaries are the quantiles\n",
    "\n",
    "    lower_boundary = df[variable].quantile(q1)\n",
    "    upper_boundary = df[variable].quantile(q2)\n",
    "\n",
    "    return upper_boundary, lower_boundary\n",
    "\n",
    "def capping_outliers(df,variable):\n",
    "    upper_boundary,lower_boundary =  find_boundaries(df,variable)\n",
    "    df[variable] = np.where(df[variable] > upper_boundary, upper_boundary,\n",
    "                       np.where(df[variable] < lower_boundary, lower_boundary, df[variable]))\n",
    "\n",
    "capping_outliers(df,'UnitPrice')\n",
    "capping_outliers(df,'Quantity')"
   ]
  },
  {
   "cell_type": "code",
   "execution_count": 79,
   "id": "2fafa02b-d410-432b-8bed-9f31afbb334e",
   "metadata": {},
   "outputs": [],
   "source": [
    "# Filtra valores 'Usamos solo del Reino Unido'\n",
    "\n",
    "df = df[df.Country == 'United Kingdom']"
   ]
  },
  {
   "cell_type": "code",
   "execution_count": 80,
   "id": "5f3dace9-84dc-4427-a43d-82eb54147dff",
   "metadata": {},
   "outputs": [],
   "source": [
    "# Se crea la columna 'Total Price'\n",
    "\n",
    "df['Total Price'] = df['UnitPrice'] * df['Quantity']"
   ]
  },
  {
   "cell_type": "code",
   "execution_count": 81,
   "id": "7619dc72-dc5f-4dd5-9058-488e5c71d028",
   "metadata": {},
   "outputs": [],
   "source": [
    "# Creating Summary Dataset\n",
    "\n",
    "clv = lifetimes.utils.summary_data_from_transaction_data(df,'CustomerID','InvoiceDate','Total Price',observation_period_end='2011-12-09')\n",
    "\n",
    "# we want only customers shopped more than 2 times\n",
    "\n",
    "clv = clv[clv['frequency']>1] "
   ]
  },
  {
   "cell_type": "code",
   "execution_count": 82,
   "id": "e8f0edb6-fba5-4984-963b-9f4e00ceae4d",
   "metadata": {},
   "outputs": [],
   "source": [
    "# Exporta la data procesada\n",
    "\n",
    "clv.to_csv('../data/processed/rfm_data.csv')"
   ]
  },
  {
   "cell_type": "markdown",
   "id": "7dc7c9a7-e05a-41f0-b1ea-962cd2583c0a",
   "metadata": {},
   "source": [
    "# 2. Modeling y Segmentation"
   ]
  },
  {
   "cell_type": "code",
   "execution_count": 83,
   "id": "2e4496b8-3a6b-4b33-ac35-97ec01bde9d2",
   "metadata": {},
   "outputs": [],
   "source": [
    "import pandas as pd\n",
    "from lifetimes import BetaGeoFitter\n",
    "from lifetimes import GammaGammaFitter\n",
    "import dill"
   ]
  },
  {
   "cell_type": "code",
   "execution_count": 84,
   "id": "45f7e195-15be-4089-ab16-8864d93b077f",
   "metadata": {},
   "outputs": [],
   "source": [
    "# Lectura del archivo rfm\n",
    "\n",
    "clv = pd.read_csv('../data/processed/rfm_data.csv')"
   ]
  },
  {
   "cell_type": "markdown",
   "id": "16813682-6900-4fdc-a0f8-c9e12007e7fa",
   "metadata": {},
   "source": [
    "<font size=3><b>Predicting Number or Purchase<b></font>"
   ]
  },
  {
   "cell_type": "code",
   "execution_count": 85,
   "id": "70cad4ce-c9f1-49a2-bc2c-59e36f9bca96",
   "metadata": {},
   "outputs": [
    {
     "data": {
      "text/plain": [
       "<lifetimes.BetaGeoFitter: fitted with 1738 subjects, a: 0.00, alpha: 112.07, b: 0.00, r: 2.38>"
      ]
     },
     "execution_count": 85,
     "metadata": {},
     "output_type": "execute_result"
    }
   ],
   "source": [
    "# BG/NBD Model for Predicting Number of Purchase\n",
    "\n",
    "bgf = BetaGeoFitter(penalizer_coef=0.001)\n",
    "bgf.fit(clv['frequency'], clv['recency'], clv['T'])"
   ]
  },
  {
   "cell_type": "code",
   "execution_count": 86,
   "id": "5d99054d-9cf2-4383-9aa3-32bcf6562ce6",
   "metadata": {},
   "outputs": [],
   "source": [
    "# Guardando el modelo con dill\n",
    "\n",
    "with open('../models/bgf_model.pkl', 'wb') as file:\n",
    "    dill.dump(bgf, file)"
   ]
  },
  {
   "cell_type": "code",
   "execution_count": 87,
   "id": "d2d417ed-a021-4f02-b5e0-1040811f5ffa",
   "metadata": {},
   "outputs": [],
   "source": [
    "# Abriendo el modelo con dill\n",
    "\n",
    "with open('../models/bgf_model.pkl', 'rb') as file:\n",
    "    bgf_loaded = dill.load(file)"
   ]
  },
  {
   "cell_type": "code",
   "execution_count": 88,
   "id": "ae23e132-494d-4145-8bb2-37c742af488f",
   "metadata": {},
   "outputs": [],
   "source": [
    "#import pickle\n",
    "#pickle.load(open('../models/bgf_model.pkl', 'rb')).summary"
   ]
  },
  {
   "cell_type": "code",
   "execution_count": 89,
   "id": "3354b457-cbb3-4cf8-9df8-e83adabf9475",
   "metadata": {},
   "outputs": [],
   "source": [
    "# Expected number pf purchases in 6 months\n",
    "\n",
    "t = 180 # 30 day period\n",
    "clv['expected_purc_6_months'] = bgf_loaded.conditional_expected_number_of_purchases_up_to_time(t, clv['frequency'], clv['recency'], clv['T'])"
   ]
  },
  {
   "cell_type": "markdown",
   "id": "f08eca53-d43d-4780-87b5-ee9997e1728f",
   "metadata": {},
   "source": [
    "<font size=3><b>Predicting the most likely value per transaction<b></font>"
   ]
  },
  {
   "cell_type": "code",
   "execution_count": 90,
   "id": "c4d8e682-d956-486c-9770-d5d96a2b839d",
   "metadata": {},
   "outputs": [
    {
     "data": {
      "text/plain": [
       "<lifetimes.GammaGammaFitter: fitted with 1738 subjects, p: 3.80, q: 0.35, v: 3.73>"
      ]
     },
     "execution_count": 90,
     "metadata": {},
     "output_type": "execute_result"
    }
   ],
   "source": [
    "# using Gamma Gamma Model\n",
    "\n",
    "ggf = GammaGammaFitter(penalizer_coef=0.01)\n",
    "ggf.fit(clv[\"frequency\"],\n",
    "        clv[\"monetary_value\"])"
   ]
  },
  {
   "cell_type": "code",
   "execution_count": 91,
   "id": "7e116c20-938f-4860-a1c5-15ba8de682f7",
   "metadata": {},
   "outputs": [],
   "source": [
    "# Guardando el modelo con dill\n",
    "\n",
    "with open('../models/ggf_model.pkl', 'wb') as file:\n",
    "    dill.dump(ggf, file)"
   ]
  },
  {
   "cell_type": "code",
   "execution_count": 92,
   "id": "e3e0380e-6d5a-4f0a-9749-fd939f1e19ff",
   "metadata": {},
   "outputs": [],
   "source": [
    "# Abriendo el modelo con dill\n",
    "\n",
    "with open('../models/ggf_model.pkl', 'rb') as file:\n",
    "    ggf_loaded = dill.load(file)"
   ]
  },
  {
   "cell_type": "code",
   "execution_count": 93,
   "id": "3150bf5e-ce9f-4b18-98d3-1e22c4c1cf7a",
   "metadata": {},
   "outputs": [],
   "source": [
    "# Customer Lifetime Value\n",
    "\n",
    "clv['6_Months_CLV']=ggf.customer_lifetime_value(bgf,\n",
    "                                   clv[\"frequency\"],\n",
    "                                   clv[\"recency\"],\n",
    "                                   clv[\"T\"],\n",
    "                                   clv[\"monetary_value\"],\n",
    "                                   time=6,\n",
    "                                   freq='D',\n",
    "                                   discount_rate=0.01)"
   ]
  },
  {
   "cell_type": "markdown",
   "id": "c03cf43b-ac12-465a-9e9a-a4e0e6f379c1",
   "metadata": {},
   "source": [
    "<font size=3><b>Segmentation Customers by CLV<b></font>"
   ]
  },
  {
   "cell_type": "code",
   "execution_count": 94,
   "id": "b1bd90a1-0b8c-4163-b8d2-7ad5982189af",
   "metadata": {},
   "outputs": [],
   "source": [
    "clv['Segment'] =  pd.qcut(clv['6_Months_CLV'],4,labels = ['Hibernating','Need Attention',\n",
    "                                                          'Loyal Customers','Champions'])"
   ]
  },
  {
   "cell_type": "code",
   "execution_count": 95,
   "id": "66fe2839-1934-4876-bd1c-4d306d808a8a",
   "metadata": {},
   "outputs": [],
   "source": [
    "# Exporta la data segmentada\n",
    "\n",
    "clv.to_csv('../data/segments/segmentos.csv')"
   ]
  }
 ],
 "metadata": {
  "kernelspec": {
   "display_name": "Python 3 (ipykernel)",
   "language": "python",
   "name": "python3"
  },
  "language_info": {
   "codemirror_mode": {
    "name": "ipython",
    "version": 3
   },
   "file_extension": ".py",
   "mimetype": "text/x-python",
   "name": "python",
   "nbconvert_exporter": "python",
   "pygments_lexer": "ipython3",
   "version": "3.11.6"
  }
 },
 "nbformat": 4,
 "nbformat_minor": 5
}
